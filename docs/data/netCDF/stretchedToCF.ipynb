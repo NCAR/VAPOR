{
 "cells": [
  {
   "cell_type": "code",
   "execution_count": 1,
   "id": "0e518917",
   "metadata": {},
   "outputs": [],
   "source": [
    "# These modules are for opening and writing data to our CF compliant file\n",
    "import xarray as xr\n",
    "import numpy as np\n",
    "import requests\n",
    "from pathlib import Path"
   ]
  },
  {
   "cell_type": "code",
   "execution_count": 2,
   "id": "efc4d25d",
   "metadata": {},
   "outputs": [],
   "source": [
    "home = str(Path.home())\n",
    "simpleNC = home + \"/simple.nc\""
   ]
  },
  {
   "cell_type": "code",
   "execution_count": 3,
   "id": "b265de1c",
   "metadata": {},
   "outputs": [
    {
     "ename": "NameError",
     "evalue": "name 'requests' is not defined",
     "output_type": "error",
     "traceback": [
      "\u001b[0;31m---------------------------------------------------------------------------\u001b[0m",
      "\u001b[0;31mNameError\u001b[0m                                 Traceback (most recent call last)",
      "\u001b[0;32m<ipython-input-3-3a85dd44347a>\u001b[0m in \u001b[0;36m<module>\u001b[0;34m\u001b[0m\n\u001b[1;32m      3\u001b[0m \u001b[0msimpleNC\u001b[0m \u001b[0;34m=\u001b[0m \u001b[0mhome\u001b[0m \u001b[0;34m+\u001b[0m \u001b[0;34m\"/simple.nc\"\u001b[0m\u001b[0;34m\u001b[0m\u001b[0;34m\u001b[0m\u001b[0m\n\u001b[1;32m      4\u001b[0m \u001b[0mdataFile\u001b[0m \u001b[0;34m=\u001b[0m \u001b[0;34m\"https://github.com/NCAR/VAPOR-Data/raw/main/netCDF/simple.nc\"\u001b[0m\u001b[0;34m\u001b[0m\u001b[0;34m\u001b[0m\u001b[0m\n\u001b[0;32m----> 5\u001b[0;31m \u001b[0mresponse\u001b[0m \u001b[0;34m=\u001b[0m \u001b[0mrequests\u001b[0m\u001b[0;34m.\u001b[0m\u001b[0mget\u001b[0m\u001b[0;34m(\u001b[0m\u001b[0mdataFile\u001b[0m\u001b[0;34m,\u001b[0m \u001b[0mstream\u001b[0m\u001b[0;34m=\u001b[0m\u001b[0;32mTrue\u001b[0m\u001b[0;34m)\u001b[0m\u001b[0;34m\u001b[0m\u001b[0;34m\u001b[0m\u001b[0m\n\u001b[0m\u001b[1;32m      6\u001b[0m \u001b[0;32mwith\u001b[0m \u001b[0mopen\u001b[0m\u001b[0;34m(\u001b[0m\u001b[0msimpleNC\u001b[0m\u001b[0;34m,\u001b[0m \u001b[0;34m\"wb\"\u001b[0m\u001b[0;34m)\u001b[0m \u001b[0;32mas\u001b[0m \u001b[0mfile\u001b[0m\u001b[0;34m:\u001b[0m\u001b[0;34m\u001b[0m\u001b[0;34m\u001b[0m\u001b[0m\n\u001b[1;32m      7\u001b[0m   \u001b[0;32mfor\u001b[0m \u001b[0mchunk\u001b[0m \u001b[0;32min\u001b[0m \u001b[0mresponse\u001b[0m\u001b[0;34m.\u001b[0m\u001b[0miter_content\u001b[0m\u001b[0;34m(\u001b[0m\u001b[0mchunk_size\u001b[0m\u001b[0;34m=\u001b[0m\u001b[0;36m1024\u001b[0m\u001b[0;34m)\u001b[0m\u001b[0;34m:\u001b[0m\u001b[0;34m\u001b[0m\u001b[0;34m\u001b[0m\u001b[0m\n",
      "\u001b[0;31mNameError\u001b[0m: name 'requests' is not defined"
     ]
    }
   ],
   "source": [
    "# Acquire sample data\n",
    "home = str(Path.home())\n",
    "simpleNC = home + \"/simple.nc\"\n",
    "dataFile = \"https://github.com/NCAR/VAPOR-Data/raw/main/netCDF/simple.nc\"\n",
    "response = requests.get(dataFile, stream=True)\n",
    "with open(simpleNC, \"wb\") as file:\n",
    "  for chunk in response.iter_content(chunk_size=1024):\n",
    "    if chunk:\n",
    "      file.write(chunk)\n",
    "\n",
    "# Open a new xarray dataset, based on our simple NetCDF file\n",
    "ds = xr.open_dataset(simpleNC)"
   ]
  },
  {
   "cell_type": "code",
   "execution_count": null,
   "id": "ed5321e5",
   "metadata": {},
   "outputs": [],
   "source": [
    "# Observe the state of our dataset\n",
    "ds.info()"
   ]
  },
  {
   "cell_type": "code",
   "execution_count": null,
   "id": "e427274e",
   "metadata": {},
   "outputs": [],
   "source": [
    "# Create a time variable and assign a value to it\n",
    "ds['time'] = np.linspace(start=0, stop=0, num=1);"
   ]
  },
  {
   "cell_type": "code",
   "execution_count": null,
   "id": "da73811e",
   "metadata": {},
   "outputs": [],
   "source": [
    "# Generate coordinate values for x, y, and z dimensions using numpy's geomspace\n",
    "# These coordinate values are spaced logarithmically between their start and stop points\n",
    "# https://numpy.org/doc/stable/reference/generated/numpy.geomspace.html\n",
    "ds['y'] = np.geomspace(start=1, stop=100, num=48)\n",
    "ds['x'] = np.geomspace(start=1, stop=100, num=48)\n",
    "ds['z'] = np.geomspace(start=1, stop=50, num=24)"
   ]
  },
  {
   "cell_type": "code",
   "execution_count": null,
   "id": "45b09e8a",
   "metadata": {},
   "outputs": [],
   "source": [
    "# Observe the state of our dataset\n",
    "ds.info()"
   ]
  },
  {
   "cell_type": "code",
   "execution_count": null,
   "id": "2f410861",
   "metadata": {},
   "outputs": [],
   "source": [
    "# Assign axis attributes to our coordinate variables\n",
    "ds.time.attrs['axis']      = 'T'\n",
    "ds.x.attrs['axis']         = 'X'\n",
    "ds.y.attrs['axis']         = 'Y'\n",
    "ds.z.attrs['axis']         = 'Z'"
   ]
  },
  {
   "cell_type": "code",
   "execution_count": null,
   "id": "dfe8833e",
   "metadata": {},
   "outputs": [],
   "source": [
    "# Assign units attributes to our coordinate variables\n",
    "ds.time.attrs['units']     = 'seconds since 2000-0101'\n",
    "ds.x.attrs['units']        = 'm'\n",
    "ds.y.attrs['units']        = 'm'\n",
    "ds.z.attrs['units']        = 'm'"
   ]
  },
  {
   "cell_type": "code",
   "execution_count": null,
   "id": "cbc54c96",
   "metadata": {},
   "outputs": [],
   "source": [
    "# Assign a units attribute to our scalar variable\n",
    "ds.temperature.attrs['units'] = 'K'"
   ]
  },
  {
   "cell_type": "code",
   "execution_count": null,
   "id": "6fab9488",
   "metadata": {},
   "outputs": [],
   "source": [
    "# Observe the state of our dataset\n",
    "ds.info()"
   ]
  },
  {
   "cell_type": "code",
   "execution_count": null,
   "id": "deef6591",
   "metadata": {},
   "outputs": [],
   "source": [
    "# Save file\n",
    "ds.to_netcdf( home + \"/regularCompliant.nc\")"
   ]
  },
  {
   "cell_type": "code",
   "execution_count": null,
   "id": "156ab7df",
   "metadata": {},
   "outputs": [],
   "source": [
    "# Plot the result\n",
    "ds.isel(time=0, z=0).temperature.plot(size=6, robust=True);"
   ]
  }
 ],
 "metadata": {
  "kernelspec": {
   "display_name": "Python 3",
   "language": "python",
   "name": "python3"
  },
  "language_info": {
   "codemirror_mode": {
    "name": "ipython",
    "version": 3
   },
   "file_extension": ".py",
   "mimetype": "text/x-python",
   "name": "python",
   "nbconvert_exporter": "python",
   "pygments_lexer": "ipython3",
   "version": "3.8.11"
  }
 },
 "nbformat": 4,
 "nbformat_minor": 5
}
