{
  "cells": [
    {
      "cell_type": "code",
      "execution_count": null,
      "metadata": {
        "collapsed": false
      },
      "outputs": [],
      "source": [
        "%matplotlib inline"
      ]
    },
    {
      "cell_type": "markdown",
      "metadata": {},
      "source": [
        "\n# makeGeotiff.py\nThis script creates a GeoTiff image that can be read by VAPOR, when given\na set of lat/lon coordinates.\n\nIt performs the the following:\n   - Takes user-specified lat/lon coordinates to query NASA's WorldView WTMS server for satellite imagery\n   - WTMS servers and layers can be changed by modifying the \"url\" and \"layer\" global variables\n   - A NaturalEarth shapfile describing roads in North America are added to the produced GeoTiff\n   - Coastlines are added to the map through Cartopy\n"
      ]
    },
    {
      "cell_type": "code",
      "execution_count": null,
      "metadata": {
        "collapsed": false
      },
      "outputs": [],
      "source": [
        "# sphinx_gallery_thumbnail_path = '_images/map.png'\n\ntargetDir = \"/Users/pearse/\"\nfileName = \"landSat_test2\"\nwest = -105.5 \nnorth = 40.25 \neast = -104.75 \nsouth = 39.6"
      ]
    },
    {
      "cell_type": "markdown",
      "metadata": {},
      "source": [
        "Size of our output figure.\nNote: If your specified lat/lon extents have a different aspect ratio than \nyour width and height, the geotiff will have either its dimensions scaled to \nmatch the aspect ratio of the specified extents of the west/north/east/south \nvariables.\n\n"
      ]
    },
    {
      "cell_type": "code",
      "execution_count": null,
      "metadata": {
        "collapsed": false
      },
      "outputs": [],
      "source": [
        "width = 1920\nheight = 1080"
      ]
    },
    {
      "cell_type": "markdown",
      "metadata": {},
      "source": [
        "For the generated tiff to have the correct width and height, the \"dpi\" \nvariable must be set according to that of your monitor.  \nTo find your DPI, see here: https://www.infobyip.com/detectmonitordpi.php\n\n"
      ]
    },
    {
      "cell_type": "code",
      "execution_count": null,
      "metadata": {
        "collapsed": false
      },
      "outputs": [],
      "source": [
        "dpi = 96"
      ]
    },
    {
      "cell_type": "markdown",
      "metadata": {},
      "source": [
        "URL for NASA's EarthData/WorldView web map tile service\n\n"
      ]
    },
    {
      "cell_type": "code",
      "execution_count": null,
      "metadata": {
        "collapsed": false
      },
      "outputs": [],
      "source": [
        "url = 'https://map1c.vis.earthdata.nasa.gov/wmts-geo/wmts.cgi'"
      ]
    },
    {
      "cell_type": "markdown",
      "metadata": {},
      "source": [
        "Specify the layer from the EarthData WMTS to draw to our geotiff.\nSee Vapor's Image Renderer documentation for a complete list of available \nlayers.\nSome options include:\n  MODIS_Terra_CorrectedReflectance_TrueColor\n  Landsat_WELD_CorrectedReflectance_Bands157_Global_Annual\n  VIIRS_CityLights_2012\n  GOES-West_ABI_Band2_Red_Visible_1km\nTo preview these layers, visit https://worldview.earthdata.nasa.gov/\n\n"
      ]
    },
    {
      "cell_type": "code",
      "execution_count": null,
      "metadata": {
        "collapsed": false
      },
      "outputs": [],
      "source": [
        "layer = 'Landsat_WELD_CorrectedReflectance_TrueColor_Global_Annual'"
      ]
    },
    {
      "cell_type": "markdown",
      "metadata": {},
      "source": [
        "Generate our matplotlib figure with a subplot to draw our map upon\n\n"
      ]
    },
    {
      "cell_type": "code",
      "execution_count": null,
      "metadata": {
        "collapsed": false
      },
      "outputs": [],
      "source": [
        "import matplotlib.pyplot as plt\nimport cartopy.crs as ccrs\nfig = plt.figure(\n    figsize=(width/dpi, height/dpi), \n    tight_layout=True \n)\nax = fig.add_subplot(1, 1, 1, projection=ccrs.PlateCarree())\nax.add_wmts(url, layer)\nax.set_extent(\n    [west, east, south, north], \n    crs=ccrs.PlateCarree()\n)"
      ]
    },
    {
      "cell_type": "markdown",
      "metadata": {},
      "source": [
        "Add coastlines from Cartopy\n\n"
      ]
    },
    {
      "cell_type": "code",
      "execution_count": null,
      "metadata": {
        "collapsed": false
      },
      "outputs": [],
      "source": [
        "ax.coastlines(resolution='50m', color='yellow')"
      ]
    },
    {
      "cell_type": "markdown",
      "metadata": {},
      "source": [
        "Add roads from NaturalEarth\n\n"
      ]
    },
    {
      "cell_type": "code",
      "execution_count": null,
      "metadata": {
        "collapsed": false
      },
      "outputs": [],
      "source": [
        "import cartopy.feature as cf\nax.add_feature(\n    cf.NaturalEarthFeature('cultural', 'roads_north_america', '10m'), \n    edgecolor='yellow', \n    facecolor='none'\n)"
      ]
    },
    {
      "cell_type": "markdown",
      "metadata": {},
      "source": [
        "Generate our initial tiff file\n\n"
      ]
    },
    {
      "cell_type": "code",
      "execution_count": null,
      "metadata": {
        "collapsed": false
      },
      "outputs": [],
      "source": [
        "tiffFile = targetDir + fileName + \".tif\"\nfig.savefig( tiffFile,\n             bbox_inches='tight',\n             pad_inches=0\n)"
      ]
    },
    {
      "cell_type": "markdown",
      "metadata": {},
      "source": [
        "Write our tiff file with GeoTiff extent information\n\n"
      ]
    },
    {
      "cell_type": "code",
      "execution_count": null,
      "metadata": {
        "collapsed": false
      },
      "outputs": [],
      "source": [
        "from osgeo import gdal\ngdal.OpenShared( tiffFile, gdal.GA_Update)\ntranslatedTiff = targetDir + fileName + \"Translated.tif\"\ngdal.Translate( srcDS=tiffFile, \n                destName=translatedTiff,\n                format = 'GTiff', \n                outputBounds = [ west, north, east, south ],\n                outputSRS = 'EPSG:4326'\n)"
      ]
    },
    {
      "cell_type": "markdown",
      "metadata": {},
      "source": [
        "Give our GeoTiff file a projected coordinate system, equivalent to the following proj4 string:\nProj4: \"+proj=eqc +lat_ts=0 +lat_0=0 +lon_0=0 +x_0=0 +y_0=0 +ellps=WGS84\"\n\n"
      ]
    },
    {
      "cell_type": "code",
      "execution_count": null,
      "metadata": {
        "collapsed": false
      },
      "outputs": [],
      "source": [
        "gdal.Warp(  destNameOrDestDS=tiffFile, \n            srcDSOrSrcDSTab=translatedTiff, \n            srcSRS = 'EPSG:4326',\n            dstSRS='EPSG:32662'\n)"
      ]
    },
    {
      "cell_type": "markdown",
      "metadata": {},
      "source": [
        "Clean up intermediate translated file\n\n"
      ]
    },
    {
      "cell_type": "code",
      "execution_count": null,
      "metadata": {
        "collapsed": false
      },
      "outputs": [],
      "source": [
        "import os\nos.remove(translatedTiff)"
      ]
    }
  ],
  "metadata": {
    "kernelspec": {
      "display_name": "Python 3",
      "language": "python",
      "name": "python3"
    },
    "language_info": {
      "codemirror_mode": {
        "name": "ipython",
        "version": 3
      },
      "file_extension": ".py",
      "mimetype": "text/x-python",
      "name": "python",
      "nbconvert_exporter": "python",
      "pygments_lexer": "ipython3",
      "version": "3.9.15"
    }
  },
  "nbformat": 4,
  "nbformat_minor": 0
}