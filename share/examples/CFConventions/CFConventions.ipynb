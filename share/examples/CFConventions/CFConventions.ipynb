{
 "cells": [
  {
   "cell_type": "code",
   "execution_count": null,
   "id": "343518be-08f8-428e-9a8e-95d753d8c829",
   "metadata": {},
   "outputs": [],
   "source": [
    "import xarray as xr\n",
    "\n",
    "ds = xr.open_dataset(\"/Users/pearse/jupyter/withoutAttributes.nc\", engine=\"netcdf4\")"
   ]
  },
  {
   "cell_type": "code",
   "execution_count": null,
   "id": "c5d8b2b9-f9a0-499d-b0ff-3b2e58d6b567",
   "metadata": {},
   "outputs": [],
   "source": [
    "ds.info()"
   ]
  },
  {
   "cell_type": "code",
   "execution_count": null,
   "id": "2bb04721-5bd6-4cd5-b643-7f2baef8d1a3",
   "metadata": {},
   "outputs": [],
   "source": [
    "# axis and units for coordinate variables\n",
    "#\n",
    "ds.time.attrs['units']      = 'seconds since 2000-0101'\n",
    "ds.time.attrs['axis']       = 'T'\n",
    "\n",
    "ds.xh.attrs['units']        = 'm'\n",
    "ds.xh.attrs['axis']         = 'X'\n",
    "\n",
    "ds.yh.attrs['units']        = 'm'\n",
    "ds.yh.attrs['axis']         = 'Y'\n",
    "\n",
    "ds.zh.attrs['units']        = 'm'\n",
    "ds.zh.attrs['axis']         = 'Z'"
   ]
  },
  {
   "cell_type": "code",
   "execution_count": null,
   "id": "8e75800e-7abc-442d-b4e2-86b932a17c6f",
   "metadata": {},
   "outputs": [],
   "source": [
    "# units for our scalar variable\n",
    "#\n",
    "ds.uinterp.attrs['units']   = 'm/s'"
   ]
  },
  {
   "cell_type": "code",
   "execution_count": null,
   "id": "3dec984b-fb35-4f12-bfaa-f8e9747c1f59",
   "metadata": {},
   "outputs": [],
   "source": [
    "ds.info()"
   ]
  },
  {
   "cell_type": "code",
   "execution_count": null,
   "id": "4d769ed0-4e0f-4d69-8d5e-34ffef6310de",
   "metadata": {},
   "outputs": [],
   "source": [
    "ds.to_netcdf(\"/Users/pearse/jupyter/withAttributes.nc\")"
   ]
  }
 ],
 "metadata": {
  "kernelspec": {
   "display_name": "Python 3",
   "language": "python",
   "name": "python3"
  },
  "language_info": {
   "codemirror_mode": {
    "name": "ipython",
    "version": 3
   },
   "file_extension": ".py",
   "mimetype": "text/x-python",
   "name": "python",
   "nbconvert_exporter": "python",
   "pygments_lexer": "ipython3",
   "version": "3.8.8"
  }
 },
 "nbformat": 4,
 "nbformat_minor": 5
}
