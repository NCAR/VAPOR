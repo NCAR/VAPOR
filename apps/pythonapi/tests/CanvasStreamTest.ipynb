{
 "cells": [
  {
   "cell_type": "code",
   "execution_count": null,
   "id": "1fccf099",
   "metadata": {},
   "outputs": [],
   "source": [
    "import example_utils\n",
    "from vapor import widget\n",
    "\n",
    "w = widget.CanvasStreamWidget(debug=True)\n",
    "w"
   ]
  },
  {
   "cell_type": "code",
   "execution_count": null,
   "id": "a525e1bd",
   "metadata": {},
   "outputs": [],
   "source": [
    "w"
   ]
  }
 ],
 "metadata": {
  "jupytext": {
   "cell_metadata_filter": "region_name,-all",
   "main_language": "python",
   "notebook_metadata_filter": "-all"
  }
 },
 "nbformat": 4,
 "nbformat_minor": 5
}