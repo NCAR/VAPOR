{
 "cells": [
  {
   "cell_type": "code",
   "execution_count": 1,
   "id": "fb0731ee",
   "metadata": {},
   "outputs": [
    {
     "name": "stderr",
     "output_type": "stream",
     "text": [
      "Warning: sysroot \"/Applications/Xcode_12.4.app/Contents/Developer/Platforms/MacOSX.platform/Developer/SDKs/MacOSX.sdk\" not found (ignoring for now)."
     ]
    },
    {
     "name": "stdout",
     "output_type": "stream",
     "text": [
      "Vapor 3.6.1\n",
      "Python 3.9.5 (/opt/homebrew/Caskroom/miniconda/base/envs/vapor)\n",
      "OpenGL 4.1 Metal - 76.3\n",
      "WARNING DOxygen not found\n"
     ]
    }
   ],
   "source": [
    "from jupyter_vapor_widget import *"
   ]
  },
  {
   "cell_type": "code",
   "execution_count": 2,
   "id": "bc3527c8",
   "metadata": {},
   "outputs": [
    {
     "data": {
      "application/vnd.jupyter.widget-view+json": {
       "model_id": "ae90728cdeb94b1fa465b44148167e6e",
       "version_major": 2,
       "version_minor": 0
      },
      "text/plain": [
       "HelloWorld()"
      ]
     },
     "metadata": {},
     "output_type": "display_data"
    }
   ],
   "source": [
    "HelloWorld()"
   ]
  },
  {
   "cell_type": "code",
   "execution_count": 3,
   "id": "baaac7fb",
   "metadata": {},
   "outputs": [
    {
     "data": {
      "text/plain": [
       "0"
      ]
     },
     "execution_count": 3,
     "metadata": {},
     "output_type": "execute_result"
    }
   ],
   "source": [
    "ses = session.Session()\n",
    "ses.Load(\"/Users/stasj/Work/sessions/maycontrol-volume.vs3\")\n",
    "# data = example_utils.OpenExampleDataset(ses)\n",
    "\n",
    "# ren = data.NewRenderer(renderer.WireFrameRenderer)\n",
    "# ren.SetVariableName(data.GetDataVarNames(2)[0]) # Set to first 2D data variable\n",
    "\n",
    "# ses.GetCamera().ViewAll()"
   ]
  },
  {
   "cell_type": "code",
   "execution_count": 4,
   "id": "299c71d7",
   "metadata": {
    "scrolled": false
   },
   "outputs": [
    {
     "name": "stdout",
     "output_type": "stream",
     "text": [
      "Dataset: '_24Maycontrol.01.vdc'\n"
     ]
    },
    {
     "data": {
      "application/vnd.jupyter.widget-view+json": {
       "model_id": "28dc1c3171234749b5a6c89dca800be7",
       "version_major": 2,
       "version_minor": 0
      },
      "text/plain": [
       "VBox(children=(VaporVisualizerWidget(mousePos=(0, 0), resolution=(640, 480)), IntSlider(value=15, max=29)))"
      ]
     },
     "metadata": {},
     "output_type": "display_data"
    }
   ],
   "source": [
    "r = ses.GetRenderers()[0]\n",
    "tf = r.GetPrimaryTransferFunction()\n",
    "\n",
    "w = VaporVisualizerWidget(ses)\n",
    "\n",
    "def sliderChanged(change):\n",
    "    l = [0]*30\n",
    "    l[change.new] = 1\n",
    "    tf.SetOpacityList(l)\n",
    "    w.Render(fast=True)\n",
    "\n",
    "slider = widgets.IntSlider(15, 0, 29)\n",
    "slider.observe(sliderChanged, names='value')\n",
    "\n",
    "widgets.VBox([w, slider])\n"
   ]
  },
  {
   "cell_type": "code",
   "execution_count": 5,
   "id": "6c6b999b",
   "metadata": {},
   "outputs": [],
   "source": [
    "from PIL import Image\n",
    "from time import sleep\n",
    "for j in range(10):\n",
    "    for i in range(3):\n",
    "        img = Image.open(f\"./img{i}.jpg\")\n",
    "        w.SetImage(img)\n",
    "    "
   ]
  },
  {
   "cell_type": "code",
   "execution_count": null,
   "id": "4c06680b",
   "metadata": {},
   "outputs": [],
   "source": []
  }
 ],
 "metadata": {
  "kernelspec": {
   "display_name": "Python 3 (ipykernel)",
   "language": "python",
   "name": "python3"
  },
  "language_info": {
   "codemirror_mode": {
    "name": "ipython",
    "version": 3
   },
   "file_extension": ".py",
   "mimetype": "text/x-python",
   "name": "python",
   "nbconvert_exporter": "python",
   "pygments_lexer": "ipython3",
   "version": "3.9.5"
  }
 },
 "nbformat": 4,
 "nbformat_minor": 5
}
